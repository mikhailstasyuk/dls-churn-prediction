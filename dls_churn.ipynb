{
  "nbformat": 4,
  "nbformat_minor": 0,
  "metadata": {
    "colab": {
      "provenance": [],
      "authorship_tag": "ABX9TyM9fq5Wdww85NaK/0cPbeU/",
      "include_colab_link": true
    },
    "kernelspec": {
      "name": "python3",
      "display_name": "Python 3"
    },
    "language_info": {
      "name": "python"
    }
  },
  "cells": [
    {
      "cell_type": "markdown",
      "metadata": {
        "id": "view-in-github",
        "colab_type": "text"
      },
      "source": [
        "<a href=\"https://colab.research.google.com/github/mikhailstasyuk/dls-churn-prediction/blob/main/dls_churn.ipynb\" target=\"_parent\"><img src=\"https://colab.research.google.com/assets/colab-badge.svg\" alt=\"Open In Colab\"/></a>"
      ]
    },
    {
      "cell_type": "markdown",
      "source": [
        "### Данные"
      ],
      "metadata": {
        "id": "rXT4KurtLi2c"
      }
    },
    {
      "cell_type": "code",
      "execution_count": 1,
      "metadata": {
        "id": "hgTma6waBeSy"
      },
      "outputs": [],
      "source": [
        "import numpy as np\n",
        "import pandas as pd"
      ]
    },
    {
      "cell_type": "code",
      "source": [
        "# Качаем данные\n",
        "!wget https://www.dropbox.com/s/afewtrph7jp3js5/data.zip -O data.zip\n",
        "!unzip data.zip"
      ],
      "metadata": {
        "id": "uSmDq449BnhA",
        "outputId": "77d33519-0e66-49ff-8d9c-ecfdcb59db09",
        "colab": {
          "base_uri": "https://localhost:8080/"
        }
      },
      "execution_count": 2,
      "outputs": [
        {
          "output_type": "stream",
          "name": "stdout",
          "text": [
            "--2023-03-14 15:38:17--  https://www.dropbox.com/s/afewtrph7jp3js5/data.zip\n",
            "Resolving www.dropbox.com (www.dropbox.com)... 162.125.7.18, 2620:100:6030:18::a27d:5012\n",
            "Connecting to www.dropbox.com (www.dropbox.com)|162.125.7.18|:443... connected.\n",
            "HTTP request sent, awaiting response... 302 Found\n",
            "Location: /s/raw/afewtrph7jp3js5/data.zip [following]\n",
            "--2023-03-14 15:38:18--  https://www.dropbox.com/s/raw/afewtrph7jp3js5/data.zip\n",
            "Reusing existing connection to www.dropbox.com:443.\n",
            "HTTP request sent, awaiting response... 302 Found\n",
            "Location: https://uc378120c7659cb06a39c0c32702.dl.dropboxusercontent.com/cd/0/inline/B4O8rIEX3L0KIOPeZDa7j3vjcE464YO2-MXw_Wk-53RU1vLaXSi2GA4klkl1CPSnQK7c2bdDV_hySXlSPEMJhPB2VuwW7_TV7R72Q92-gASVz9sTTrxCgRGXt5xqWqOZ_0Dc-k0Mw4vAWZzwnkQu9ebdrwq9CGM9BjhLyAh8lvLsSw/file# [following]\n",
            "--2023-03-14 15:38:18--  https://uc378120c7659cb06a39c0c32702.dl.dropboxusercontent.com/cd/0/inline/B4O8rIEX3L0KIOPeZDa7j3vjcE464YO2-MXw_Wk-53RU1vLaXSi2GA4klkl1CPSnQK7c2bdDV_hySXlSPEMJhPB2VuwW7_TV7R72Q92-gASVz9sTTrxCgRGXt5xqWqOZ_0Dc-k0Mw4vAWZzwnkQu9ebdrwq9CGM9BjhLyAh8lvLsSw/file\n",
            "Resolving uc378120c7659cb06a39c0c32702.dl.dropboxusercontent.com (uc378120c7659cb06a39c0c32702.dl.dropboxusercontent.com)... 162.125.80.15, 2620:100:6035:15::a27d:550f\n",
            "Connecting to uc378120c7659cb06a39c0c32702.dl.dropboxusercontent.com (uc378120c7659cb06a39c0c32702.dl.dropboxusercontent.com)|162.125.80.15|:443... connected.\n",
            "HTTP request sent, awaiting response... 302 Found\n",
            "Location: /cd/0/inline2/B4PdYWDINTsT7Z1oOkEZztDjvu4zPcaRp5JPHUuXdCRa45O626j1w_1d1yK6lxrPARKRZcFx7cv4ryNh6Wx22yBAQBr9rutaadpkYKm2V4ADwRInVwpjf8wq_ioca8jXX-kYXAmLa4uPL_jABqdfwYGs70g9O2JmQYVSfIMdtVckLLdycrZNbgsaaArbpVorMVv54eCH7c4_TScwpgWj_OqN0bHVtZSOOLhDrxp6vHkKOIp1UvVxIMn2qonczCTa2--ArhH-wAh-ZOzMMdney8KMzAvNXhV0G10OSlMJpzxPhSkBh71Tiut9zttF9QwYgm1vJc-DA7-Yf2CZlmA81v_RbgRIjlnwtH1Y0_NW1ZbhqvFa2mpgTYUQ-vaN5sW4LD12MBN1cIw6xkfRhktE2YAGMnjMBnWf0Dnx5YD69s8n3g/file [following]\n",
            "--2023-03-14 15:38:19--  https://uc378120c7659cb06a39c0c32702.dl.dropboxusercontent.com/cd/0/inline2/B4PdYWDINTsT7Z1oOkEZztDjvu4zPcaRp5JPHUuXdCRa45O626j1w_1d1yK6lxrPARKRZcFx7cv4ryNh6Wx22yBAQBr9rutaadpkYKm2V4ADwRInVwpjf8wq_ioca8jXX-kYXAmLa4uPL_jABqdfwYGs70g9O2JmQYVSfIMdtVckLLdycrZNbgsaaArbpVorMVv54eCH7c4_TScwpgWj_OqN0bHVtZSOOLhDrxp6vHkKOIp1UvVxIMn2qonczCTa2--ArhH-wAh-ZOzMMdney8KMzAvNXhV0G10OSlMJpzxPhSkBh71Tiut9zttF9QwYgm1vJc-DA7-Yf2CZlmA81v_RbgRIjlnwtH1Y0_NW1ZbhqvFa2mpgTYUQ-vaN5sW4LD12MBN1cIw6xkfRhktE2YAGMnjMBnWf0Dnx5YD69s8n3g/file\n",
            "Reusing existing connection to uc378120c7659cb06a39c0c32702.dl.dropboxusercontent.com:443.\n",
            "HTTP request sent, awaiting response... 200 OK\n",
            "Length: 117805 (115K) [application/zip]\n",
            "Saving to: ‘data.zip’\n",
            "\n",
            "data.zip            100%[===================>] 115.04K  --.-KB/s    in 0.1s    \n",
            "\n",
            "2023-03-14 15:38:19 (1.10 MB/s) - ‘data.zip’ saved [117805/117805]\n",
            "\n",
            "Archive:  data.zip\n",
            "  inflating: data/submission.csv     \n",
            "  inflating: data/test.csv           \n",
            "  inflating: data/train.csv          \n"
          ]
        }
      ]
    },
    {
      "cell_type": "code",
      "source": [
        "df_train = pd.DataFrame(['data/train.csv'])\n",
        "df_test = pd.DataFrame(['data/test.csv'])"
      ],
      "metadata": {
        "id": "yI4AAp58LgtB"
      },
      "execution_count": 3,
      "outputs": []
    },
    {
      "cell_type": "code",
      "source": [],
      "metadata": {
        "id": "6mSx3_Oiyqna"
      },
      "execution_count": null,
      "outputs": []
    }
  ]
}